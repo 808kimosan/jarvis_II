{
 "cells": [
  {
   "cell_type": "markdown",
   "metadata": {},
   "source": [
    "# Welcome to the Dark Art of Coding:\n",
    "## Introduction to Data Science Fundamentals\n",
    "Basic Statistics\n",
    "\n",
    "From count, min, max to variance/standard deviation\n",
    "\n",
    "<img src='../images/logos.3.600.wide.png' height='250' width='300' style=\"float:right\">"
   ]
  },
  {
   "cell_type": "markdown",
   "metadata": {},
   "source": [
    "# Main objectives\n",
    "---"
   ]
  },
  {
   "cell_type": "markdown",
   "metadata": {},
   "source": [
    "You will be able to:\n",
    "\n",
    "* Understand how to calculate counts, minimums and maximums\n",
    "* Understand the measures of central tendencies and the differences between: \n",
    "   * mean\n",
    "   * median\n",
    "   * mode\n",
    "* Understand measures of dispersion and the differences between:\n",
    "   * simple spread\n",
    "   * variance\n",
    "   * standard deviation\n",
    "   * quantiles\n",
    "   * interquartile ranges\n",
    "* Understand measures of correlation and the difference between:\n",
    "   * covariance\n",
    "   * correlation"
   ]
  },
  {
   "cell_type": "markdown",
   "metadata": {},
   "source": [
    "# A broad overview\n",
    "---\n",
    "\n",
    "\n"
   ]
  },
  {
   "cell_type": "markdown",
   "metadata": {},
   "source": [
    "To help us understand some of the concepts we are gonna explore, we will explore most of these measures in several ways:\n",
    "\n",
    "* through small, simple datasets\n",
    "* through a larger more sophisticated dataset\n",
    "* through hand-developed code\n",
    "* through related functions found in Python's Standard Library and in major data science libraries such as numpy, scipy, and pandas "
   ]
  },
  {
   "cell_type": "markdown",
   "metadata": {},
   "source": [
    "To get us started, let's take a look at our large dataset. To do so, we will plot the data using the matplotlib library. "
   ]
  },
  {
   "cell_type": "code",
   "execution_count": null,
   "metadata": {
    "collapsed": true
   },
   "outputs": [],
   "source": [
    "# Let's simulate the number of defects within a series of part batches.\n",
    "# Given any batch of parts, some of the parts will be defective.\n",
    "# Each number below represents the number of defects in a single batch.\n",
    "\n",
    "num_defects =  [99, 52, 42, 44, 27, 22, 22, 24, 22, 21,\n",
    "                21, 18, 18, 15, 19, 19, 18, 17, 18, 16,\n",
    "                16, 17, 18, 15, 15, 13, 11, 14, 14, 13,\n",
    "                14, 14, 14, 13, 14, 14, 14, 14, 12, 14,\n",
    "                13, 12, 11, 12, 13, 13, 12, 13, 11, 13,\n",
    "                11, 12, 12, 10, 10, 11, 12, 13, 10, 12,\n",
    "                11, 10, 12, 12, 11, 11, 9, 9, 9, 11,\n",
    "                12, 8, 8, 10, 8, 10, 11, 10, 9, 10,\n",
    "                10, 8, 8, 11, 10, 9, 8, 8, 10, 10,\n",
    "                7, 7, 7, 8, 8, 7, 7, 8, 7, 7,\n",
    "                9, 7, 7, 10, 7, 8, 9, 9, 6, 6,\n",
    "                8, 8, 9, 7, 7, 9, 6, 8, 9, 8,\n",
    "                9, 9, 6, 8, 9, 7, 8, 6, 8, 6,\n",
    "                6, 6, 6, 6, 6, 8, 7, 8, 7, 5,\n",
    "                6, 8, 8, 8, 8, 5, 4, 6, 6, 4,\n",
    "                6, 6, 4, 5, 7, 5, 7, 6, 5, 4,\n",
    "                6, 4, 7, 5, 6, 4, 4, 6, 6, 3,\n",
    "                5, 6, 6, 4, 6, 3, 3, 3, 5, 5,\n",
    "                5, 3, 2, 5, 2, 3, 2, 4, 3, 2,\n",
    "                5, 2, 2, 2, 3, 4, 4, 4, 5, 5,\n",
    "                3, 5, 4, 2]         "
   ]
  },
  {
   "cell_type": "code",
   "execution_count": null,
   "metadata": {
    "collapsed": true
   },
   "outputs": [],
   "source": [
    "# enable inline plots\n",
    "# import matplotlib pyplot features using plt as an alias\n",
    "\n",
    "%matplotlib inline\n",
    "import matplotlib.pyplot as plt"
   ]
  },
  {
   "cell_type": "code",
   "execution_count": null,
   "metadata": {
    "collapsed": true
   },
   "outputs": [],
   "source": [
    "# import Counter class to help us simplify the counting process\n",
    "\n",
    "from collections import Counter"
   ]
  },
  {
   "cell_type": "markdown",
   "metadata": {},
   "source": [
    "# Simple Histogram"
   ]
  },
  {
   "cell_type": "code",
   "execution_count": null,
   "metadata": {
    "collapsed": true
   },
   "outputs": [],
   "source": [
    "# Let's count how many times each defect count appears\n",
    "#     and look at the five most frequent counts\n",
    "\n",
    "defect_counts = Counter(num_defects)\n",
    "\n",
    "for defect_count, freq in defect_counts.most_common(5):\n",
    "    print(defect_count, '>  ', freq)"
   ]
  },
  {
   "cell_type": "code",
   "execution_count": null,
   "metadata": {
    "collapsed": true
   },
   "outputs": [],
   "source": [
    "# Let's create a series of x values \n",
    "#     and parse the defect counts for each of the values.\n",
    "\n",
    "x_values = range(101)\n",
    "y_values = [defect_counts[x] for x in x_values]"
   ]
  },
  {
   "cell_type": "code",
   "execution_count": null,
   "metadata": {},
   "outputs": [],
   "source": [
    "# Let's craft a bar chart using our x and y values...\n",
    "#     For now, I don't want to focus too much on the mechanics of creating the \n",
    "#     graph... just on what the graph can tell us at a glance\n",
    "\n",
    "#     We will use this picture to help us get a sense for what the \n",
    "\n",
    "plt.figure(figsize=(12, 10))\n",
    "plt.bar(x_values, y_values)\n",
    "plt.axis([0, 105, 0, 25])\n",
    "plt.title('Frequency of defects detected')\n",
    "plt.xlabel('# of defects')\n",
    "plt.ylabel('# of batchs')\n",
    "plt.show()"
   ]
  },
  {
   "cell_type": "markdown",
   "metadata": {},
   "source": [
    "# Simple statistics: \n",
    "## count, maximum, minimum"
   ]
  },
  {
   "cell_type": "code",
   "execution_count": null,
   "metadata": {},
   "outputs": [],
   "source": [
    "# len() returns the total number of elements in a Python sequence\n",
    "\n",
    "num_points = len(num_defects)\n",
    "print(\"Number of data points:\", num_points)"
   ]
  },
  {
   "cell_type": "code",
   "execution_count": null,
   "metadata": {
    "collapsed": true
   },
   "outputs": [],
   "source": [
    "# max() and min() return the maximum (or minimum) value from a \n",
    "#     Python sequence\n",
    "\n",
    "largest_value = max(num_defects)\n",
    "smallest_value = min(num_defects)"
   ]
  },
  {
   "cell_type": "code",
   "execution_count": null,
   "metadata": {},
   "outputs": [],
   "source": [
    "print(\"Largest value:\", largest_value)\n",
    "print(\"Smallest value:\", smallest_value)"
   ]
  },
  {
   "cell_type": "markdown",
   "metadata": {},
   "source": [
    "# Simple statistics:\n",
    "## central tendencies"
   ]
  },
  {
   "cell_type": "markdown",
   "metadata": {},
   "source": [
    "* mean\n",
    "* median\n",
    "* mode"
   ]
  },
  {
   "cell_type": "code",
   "execution_count": null,
   "metadata": {
    "collapsed": true
   },
   "outputs": [],
   "source": [
    "# We can create a straight forward function to calculate the mean \n",
    "#     (also known as the average) of a sequence of values.\n",
    "\n",
    "def mean(values):\n",
    "    '''Return the mean (or average) of a sequence of values.\n",
    "    '''\n",
    "    return sum(values) / len(values)"
   ]
  },
  {
   "cell_type": "code",
   "execution_count": null,
   "metadata": {},
   "outputs": [],
   "source": [
    "mean([1, 2, 3, 4])         # even number of values"
   ]
  },
  {
   "cell_type": "code",
   "execution_count": null,
   "metadata": {},
   "outputs": [],
   "source": [
    "mean([1, 2, 3, 4, 5])      # odd number of values"
   ]
  },
  {
   "cell_type": "code",
   "execution_count": null,
   "metadata": {},
   "outputs": [],
   "source": [
    "mean(num_defects)"
   ]
  },
  {
   "cell_type": "code",
   "execution_count": null,
   "metadata": {},
   "outputs": [],
   "source": [
    "mean([3, 5])"
   ]
  },
  {
   "cell_type": "code",
   "execution_count": null,
   "metadata": {
    "collapsed": true
   },
   "outputs": [],
   "source": [
    "# We can create a straight forward function to calculate the median \n",
    "#     The median is the center-most value in a sorted sequence of values\n",
    "#     If there are an even number of items, the median is the average of\n",
    "#     the two center-most values.\n",
    "\n",
    "def median(values):\n",
    "    \"\"\"Return the median value from a sequence of values\n",
    "    \n",
    "    >>> median([1, 3, 5])\n",
    "    3\n",
    "    \n",
    "    >>> median([1, 3, 5, 7])\n",
    "    4.0\n",
    "    \"\"\"\n",
    "    \n",
    "    num = len(values)\n",
    "    sorted_values = sorted(values)\n",
    "    centerpoint = num // 2            # truncate any floats...\n",
    "    \n",
    "    if num % 2 == 1: \n",
    "        # return the center value if n is odd\n",
    "        return sorted_values[centerpoint]\n",
    "    \n",
    "    else:\n",
    "        # return the average of the two center-most values\n",
    "        # if num is even\n",
    "        c1 = centerpoint - 1\n",
    "        c2 = centerpoint\n",
    "        return (sorted_values[c1] + sorted_values[c2]) / 2\n",
    "    "
   ]
  },
  {
   "cell_type": "code",
   "execution_count": null,
   "metadata": {},
   "outputs": [],
   "source": [
    "# median of an odd number of values\n",
    "\n",
    "odd = [1, 2, 3]\n",
    "\n",
    "median(odd)"
   ]
  },
  {
   "cell_type": "code",
   "execution_count": null,
   "metadata": {},
   "outputs": [],
   "source": [
    "# median of an even number of values\n",
    "# REMINDER: median sorts the values in the sequence before \n",
    "#     returning any values\n",
    "\n",
    "even = [42, 1, 5, 6]\n",
    "\n",
    "median(even)    "
   ]
  },
  {
   "cell_type": "code",
   "execution_count": null,
   "metadata": {},
   "outputs": [],
   "source": [
    "# median num of tweets recieved\n",
    "\n",
    "median(num_defects)"
   ]
  },
  {
   "cell_type": "code",
   "execution_count": null,
   "metadata": {
    "collapsed": true
   },
   "outputs": [],
   "source": [
    "from collections import Counter\n",
    "\n",
    "def mode(values):\n",
    "    \"\"\"Returns a list of the most common (frequent) value(s) \n",
    "    \n",
    "    If there is more than one element with the same maximum frequency, then\n",
    "    return all such elements as a list\n",
    "    \"\"\"\n",
    "    \n",
    "    mode_values = {}\n",
    "    counts = Counter(values)\n",
    "    max_count = max(counts.values())\n",
    "    \n",
    "    return [value for value, count in counts.items() if count == max_count]        "
   ]
  },
  {
   "cell_type": "code",
   "execution_count": null,
   "metadata": {},
   "outputs": [],
   "source": [
    "mode([1, 2, 3, 4])"
   ]
  },
  {
   "cell_type": "code",
   "execution_count": null,
   "metadata": {},
   "outputs": [],
   "source": [
    "mode([1, 2, 3, 3, 3, 4, 4, 4, 4])"
   ]
  },
  {
   "cell_type": "code",
   "execution_count": null,
   "metadata": {},
   "outputs": [],
   "source": [
    "mode(num_defects)"
   ]
  },
  {
   "cell_type": "code",
   "execution_count": null,
   "metadata": {},
   "outputs": [],
   "source": []
  },
  {
   "cell_type": "code",
   "execution_count": null,
   "metadata": {},
   "outputs": [],
   "source": []
  },
  {
   "cell_type": "code",
   "execution_count": null,
   "metadata": {},
   "outputs": [],
   "source": []
  },
  {
   "cell_type": "code",
   "execution_count": null,
   "metadata": {},
   "outputs": [],
   "source": []
  },
  {
   "cell_type": "code",
   "execution_count": null,
   "metadata": {},
   "outputs": [],
   "source": []
  },
  {
   "cell_type": "code",
   "execution_count": null,
   "metadata": {},
   "outputs": [],
   "source": []
  },
  {
   "cell_type": "code",
   "execution_count": null,
   "metadata": {},
   "outputs": [],
   "source": []
  },
  {
   "cell_type": "markdown",
   "metadata": {},
   "source": [
    "# Simple statistics:\n",
    "## frequency table"
   ]
  },
  {
   "cell_type": "code",
   "execution_count": null,
   "metadata": {
    "collapsed": true
   },
   "outputs": [],
   "source": [
    "from collections import Counter\n",
    "\n",
    "def freq_table(values):\n",
    "    \"\"\"Returns a series of values and counts in a frequency table \n",
    "    \n",
    "    \"\"\"\n",
    "    \n",
    "    frequencies = Counter(values)\n",
    "    print('Value\\tFrequency')\n",
    "    \n",
    "    for value, count in frequencies.most_common():\n",
    "        print('{}\\t{}'.format(value, count))\n",
    "    \n"
   ]
  },
  {
   "cell_type": "code",
   "execution_count": null,
   "metadata": {},
   "outputs": [],
   "source": [
    "freq_table(num_defects)"
   ]
  },
  {
   "cell_type": "code",
   "execution_count": null,
   "metadata": {
    "collapsed": true
   },
   "outputs": [],
   "source": []
  },
  {
   "cell_type": "code",
   "execution_count": null,
   "metadata": {
    "collapsed": true
   },
   "outputs": [],
   "source": []
  },
  {
   "cell_type": "code",
   "execution_count": null,
   "metadata": {
    "collapsed": true
   },
   "outputs": [],
   "source": []
  },
  {
   "cell_type": "code",
   "execution_count": null,
   "metadata": {
    "collapsed": true
   },
   "outputs": [],
   "source": []
  },
  {
   "cell_type": "markdown",
   "metadata": {},
   "source": [
    "# Dispersion\n",
    "## maximum, minimum"
   ]
  },
  {
   "cell_type": "code",
   "execution_count": null,
   "metadata": {
    "collapsed": true
   },
   "outputs": [],
   "source": [
    "largest_value = max(num_defects)\n",
    "smallest_value = min(num_defects)"
   ]
  },
  {
   "cell_type": "code",
   "execution_count": null,
   "metadata": {},
   "outputs": [],
   "source": [
    "print(\"Largest value:\", largest_value)\n",
    "print(\"Smallest value:\", smallest_value)"
   ]
  },
  {
   "cell_type": "markdown",
   "metadata": {},
   "source": [
    "## simple spread"
   ]
  },
  {
   "cell_type": "code",
   "execution_count": null,
   "metadata": {
    "collapsed": true
   },
   "outputs": [],
   "source": [
    "def data_range(x):\n",
    "    return max(x) - min(x)"
   ]
  },
  {
   "cell_type": "code",
   "execution_count": null,
   "metadata": {},
   "outputs": [],
   "source": [
    "data_range([5, 3, 4, 2, 1])"
   ]
  },
  {
   "cell_type": "code",
   "execution_count": null,
   "metadata": {},
   "outputs": [],
   "source": [
    "data_range(num_defects)"
   ]
  },
  {
   "cell_type": "markdown",
   "metadata": {},
   "source": [
    "## variance and standard deviation"
   ]
  },
  {
   "cell_type": "code",
   "execution_count": null,
   "metadata": {
    "collapsed": true
   },
   "outputs": [],
   "source": [
    "def diff_mean(values):\n",
    "    \"\"\"Calculate the difference from the mean for every value in a \n",
    "    sequence of values\n",
    "    \n",
    "    This has the effect of translating the values so that the new mean\n",
    "    is zero (0).\n",
    "    \"\"\"\n",
    "    \n",
    "    x_bar = mean(values)\n",
    "    return [value - x_bar for value in values]    "
   ]
  },
  {
   "cell_type": "code",
   "execution_count": null,
   "metadata": {},
   "outputs": [],
   "source": [
    "diff_mean(num_defects)"
   ]
  },
  {
   "cell_type": "code",
   "execution_count": null,
   "metadata": {
    "collapsed": true
   },
   "outputs": [],
   "source": [
    "def variance(values):\n",
    "    \"\"\"Return the variance of a sequence of values.\n",
    "    \n",
    "    NOTE: this functions presumes that values has a minimum of two elements.\n",
    "    \"\"\"\n",
    "    \n",
    "    num = len(values)\n",
    "    deviations = diff_mean(values)\n",
    "    squared_diffs = [d**2 for d in deviations]\n",
    "    sum_squared_diffs = sum(squared_diffs)\n",
    "    \n",
    "    return sum_squared_diffs / num\n",
    "    "
   ]
  },
  {
   "cell_type": "code",
   "execution_count": null,
   "metadata": {},
   "outputs": [],
   "source": [
    "variance(num_defects)"
   ]
  },
  {
   "cell_type": "code",
   "execution_count": null,
   "metadata": {
    "collapsed": true
   },
   "outputs": [],
   "source": [
    "def standard_deviation(values):\n",
    "    \"\"\"Return the standard deviation of a sequence of values\n",
    "    \"\"\"\n",
    "    \n",
    "    import math\n",
    "    return math.sqrt(variance(values))"
   ]
  },
  {
   "cell_type": "code",
   "execution_count": null,
   "metadata": {},
   "outputs": [],
   "source": [
    "standard_deviation(num_defects)"
   ]
  },
  {
   "cell_type": "code",
   "execution_count": null,
   "metadata": {
    "collapsed": true
   },
   "outputs": [],
   "source": []
  },
  {
   "cell_type": "markdown",
   "metadata": {},
   "source": [
    "## quantiles and interquartile ranges"
   ]
  },
  {
   "cell_type": "code",
   "execution_count": null,
   "metadata": {
    "collapsed": true
   },
   "outputs": [],
   "source": [
    "def quantile(values, percentile):\n",
    "    \"\"\"Returns the pth-percentile value in values\n",
    "    \"\"\"\n",
    "    \n",
    "    p_index = int(percentile * len(values))\n",
    "    return sorted(values)[p_index]"
   ]
  },
  {
   "cell_type": "code",
   "execution_count": null,
   "metadata": {},
   "outputs": [],
   "source": [
    "grades1 = [85, 87, 89, 55, 65, 67, 75, 80, 91, 96]\n",
    "\n",
    "quantile(grades1, .5)"
   ]
  },
  {
   "cell_type": "code",
   "execution_count": null,
   "metadata": {},
   "outputs": [],
   "source": [
    "grades2 = [85, 87, 89, 55, 65, 67, 75, 80, 91, 96, 99]\n",
    "\n",
    "quantile(grades2, .5)\n",
    "\n",
    "# This is less detailed than median\n",
    "# and does not account for the length of\n",
    "# the dataset in terms of odd/even num of values"
   ]
  },
  {
   "cell_type": "code",
   "execution_count": null,
   "metadata": {},
   "outputs": [],
   "source": [
    "quantile(grades2, .75)\n",
    "\n",
    "# This version is less sophisticated than our median() function\n",
    "# It does not account for the length of\n",
    "# the dataset in terms of odd/even num of values"
   ]
  },
  {
   "cell_type": "code",
   "execution_count": null,
   "metadata": {},
   "outputs": [],
   "source": [
    "# To see the percentile breakdown of tweets, we can calculate\n",
    "#     which counts fall into which percentiles\n",
    "# It is important to note that the percentile simply finds the\n",
    "#     nearest index in the list to that percentile value\n",
    "#     and returns the value stored at that index.\n",
    "\n",
    "for percent in [0.10, 0.25, 0.75, 0.90, 0.95, 0.999]:\n",
    "    q = quantile(num_defects, percent)\n",
    "    \n",
    "    print('Percent: {}\\t{}'.format(percent, q))"
   ]
  },
  {
   "cell_type": "code",
   "execution_count": null,
   "metadata": {
    "collapsed": true
   },
   "outputs": [],
   "source": []
  },
  {
   "cell_type": "code",
   "execution_count": null,
   "metadata": {
    "collapsed": true
   },
   "outputs": [],
   "source": []
  },
  {
   "cell_type": "code",
   "execution_count": null,
   "metadata": {
    "collapsed": true
   },
   "outputs": [],
   "source": []
  },
  {
   "cell_type": "code",
   "execution_count": null,
   "metadata": {
    "collapsed": true
   },
   "outputs": [],
   "source": []
  },
  {
   "cell_type": "code",
   "execution_count": null,
   "metadata": {
    "collapsed": true
   },
   "outputs": [],
   "source": [
    "# To show the range between two quantile values, we \n",
    "#     can use an interquantile range.\n",
    "\n",
    "def interquartile_range(values):\n",
    "    '''Return the difference between the 75% and 25% percentiles.\n",
    "    '''\n",
    "    return quantile(values, 0.75) - quantile(values, 0.25)"
   ]
  },
  {
   "cell_type": "code",
   "execution_count": null,
   "metadata": {},
   "outputs": [],
   "source": [
    "interquartile_range([1, 2, 3, 4, 5, 6, 7, 8, 9, 10])"
   ]
  },
  {
   "cell_type": "code",
   "execution_count": null,
   "metadata": {},
   "outputs": [],
   "source": [
    "interquartile_range(num_defects)"
   ]
  },
  {
   "cell_type": "markdown",
   "metadata": {},
   "source": [
    "# Correlation"
   ]
  },
  {
   "cell_type": "code",
   "execution_count": null,
   "metadata": {
    "collapsed": true
   },
   "outputs": [],
   "source": [
    "daily_minutes = [1,68.77,51.25,52.08,38.36,44.54,57.13,51.4,41.42,31.22,34.76,54.01,38.79,47.59,49.1,27.66,41.03,36.73,48.65,28.12,46.62,35.57,32.98,35,26.07,23.77,39.73,40.57,31.65,31.21,36.32,20.45,21.93,26.02,27.34,23.49,46.94,30.5,33.8,24.23,21.4,27.94,32.24,40.57,25.07,19.42,22.39,18.42,46.96,23.72,26.41,26.97,36.76,40.32,35.02,29.47,30.2,31,38.11,38.18,36.31,21.03,30.86,36.07,28.66,29.08,37.28,15.28,24.17,22.31,30.17,25.53,19.85,35.37,44.6,17.23,13.47,26.33,35.02,32.09,24.81,19.33,28.77,24.26,31.98,25.73,24.86,16.28,34.51,15.23,39.72,40.8,26.06,35.76,34.76,16.13,44.04,18.03,19.65,32.62,35.59,39.43,14.18,35.24,40.13,41.82,35.45,36.07,43.67,24.61,20.9,21.9,18.79,27.61,27.21,26.61,29.77,20.59,27.53,13.82,33.2,25,33.1,36.65,18.63,14.87,22.2,36.81,25.53,24.62,26.25,18.21,28.08,19.42,29.79,32.8,35.99,28.32,27.79,35.88,29.06,36.28,14.1,36.63,37.49,26.9,18.58,38.48,24.48,18.95,33.55,14.24,29.04,32.51,25.63,22.22,19,32.73,15.16,13.9,27.2,32.01,29.27,33,13.74,20.42,27.32,18.23,35.35,28.48,9.08,24.62,20.12,35.26,19.92,31.02,16.49,12.16,30.7,31.22,34.65,13.13,27.51,33.2,31.57,14.1,33.42,17.44,10.12,24.42,9.82,23.39,30.93,15.03,21.67,31.09,33.29,22.61,26.89,23.48,8.38,27.81,32.35,23.84]\n"
   ]
  },
  {
   "cell_type": "code",
   "execution_count": null,
   "metadata": {
    "collapsed": true
   },
   "outputs": [],
   "source": [
    "def covariance(x, y):\n",
    "    n = len(x)\n",
    "    return dot(de_mean(x), de_mean(y)) / (n - 1)"
   ]
  },
  {
   "cell_type": "code",
   "execution_count": null,
   "metadata": {
    "collapsed": true
   },
   "outputs": [],
   "source": []
  },
  {
   "cell_type": "code",
   "execution_count": null,
   "metadata": {
    "collapsed": true
   },
   "outputs": [],
   "source": []
  },
  {
   "cell_type": "code",
   "execution_count": null,
   "metadata": {},
   "outputs": [],
   "source": [
    "covariance(num_defects, daily_minutes)"
   ]
  },
  {
   "cell_type": "code",
   "execution_count": null,
   "metadata": {
    "collapsed": true
   },
   "outputs": [],
   "source": [
    "def correlation(x, y):\n",
    "    stdev_x = standard_deviation(x)\n",
    "    stdev_y = standard_deviation(y)\n",
    "    if stdev_x > 0 and stdev_y > 0:\n",
    "        return covariance(x, y) / stdev_x / stdev_y\n",
    "    else:\n",
    "        return 0"
   ]
  },
  {
   "cell_type": "code",
   "execution_count": null,
   "metadata": {
    "collapsed": true
   },
   "outputs": [],
   "source": []
  },
  {
   "cell_type": "code",
   "execution_count": null,
   "metadata": {},
   "outputs": [],
   "source": [
    "correlation(num_defects, daily_minutes)"
   ]
  },
  {
   "cell_type": "code",
   "execution_count": null,
   "metadata": {
    "collapsed": true
   },
   "outputs": [],
   "source": [
    "outlier = num_defects.index(100)"
   ]
  },
  {
   "cell_type": "code",
   "execution_count": null,
   "metadata": {
    "collapsed": true
   },
   "outputs": [],
   "source": [
    "num_defects_good = [x\n",
    "                    for i, x in enumerate(num_defects)\n",
    "                    if i != outlier]"
   ]
  },
  {
   "cell_type": "code",
   "execution_count": null,
   "metadata": {
    "collapsed": true
   },
   "outputs": [],
   "source": [
    "daily_minutes_good = [x\n",
    "                      for i, x in enumerate(daily_minutes)\n",
    "                      if i != outlier]"
   ]
  },
  {
   "cell_type": "code",
   "execution_count": null,
   "metadata": {},
   "outputs": [],
   "source": [
    "correlation(num_defects_good, daily_minutes_good)"
   ]
  },
  {
   "cell_type": "code",
   "execution_count": null,
   "metadata": {},
   "outputs": [],
   "source": [
    "plt.scatter(num_defects, daily_minutes, color='g')"
   ]
  },
  {
   "cell_type": "code",
   "execution_count": null,
   "metadata": {},
   "outputs": [],
   "source": [
    "plt.scatter(num_defects_good, daily_minutes_good, color='r')"
   ]
  },
  {
   "cell_type": "code",
   "execution_count": null,
   "metadata": {
    "scrolled": false
   },
   "outputs": [],
   "source": [
    "def sparse_dir(obj):\n",
    "    '''Returns a dir() listing that excludes all methods\n",
    "    that begin with an '_' (underscore) and all methods \n",
    "    that start with an uppercase''' \n",
    "    \n",
    "    lead = '_'\n",
    "    return [attr for attr in dir(obj) if attr[0] != lead and attr[0].islower()]        \n",
    "\n",
    "sparse_dir(plt)"
   ]
  },
  {
   "cell_type": "code",
   "execution_count": null,
   "metadata": {
    "collapsed": true
   },
   "outputs": [],
   "source": []
  },
  {
   "cell_type": "code",
   "execution_count": null,
   "metadata": {
    "collapsed": true
   },
   "outputs": [],
   "source": []
  },
  {
   "cell_type": "code",
   "execution_count": null,
   "metadata": {
    "collapsed": true
   },
   "outputs": [],
   "source": []
  },
  {
   "cell_type": "code",
   "execution_count": null,
   "metadata": {
    "collapsed": true
   },
   "outputs": [],
   "source": []
  },
  {
   "cell_type": "code",
   "execution_count": null,
   "metadata": {
    "collapsed": true
   },
   "outputs": [],
   "source": []
  },
  {
   "cell_type": "code",
   "execution_count": null,
   "metadata": {
    "collapsed": true
   },
   "outputs": [],
   "source": [
    "# alternate options >>> "
   ]
  },
  {
   "cell_type": "code",
   "execution_count": null,
   "metadata": {
    "collapsed": true
   },
   "outputs": [],
   "source": [
    "import numpy as np, scipy, statistics as stats, pandas as pd"
   ]
  },
  {
   "cell_type": "code",
   "execution_count": null,
   "metadata": {
    "collapsed": true
   },
   "outputs": [],
   "source": [
    "np_nts = np.array(num_defects)"
   ]
  },
  {
   "cell_type": "code",
   "execution_count": null,
   "metadata": {
    "collapsed": true
   },
   "outputs": [],
   "source": [
    "np_nts.mean()"
   ]
  },
  {
   "cell_type": "code",
   "execution_count": null,
   "metadata": {
    "collapsed": true
   },
   "outputs": [],
   "source": [
    "np_nts.max()"
   ]
  },
  {
   "cell_type": "code",
   "execution_count": null,
   "metadata": {
    "collapsed": true
   },
   "outputs": [],
   "source": [
    "np_nts.min()"
   ]
  },
  {
   "cell_type": "code",
   "execution_count": null,
   "metadata": {
    "collapsed": true
   },
   "outputs": [],
   "source": [
    "print(np_nts.var())\n",
    "print(np_nts.std())"
   ]
  },
  {
   "cell_type": "code",
   "execution_count": null,
   "metadata": {
    "collapsed": true
   },
   "outputs": [],
   "source": [
    "print(scipy.mean(num_defects))\n",
    "print(scipy.median(num_defects))\n",
    "print(scipy.var(num_defects))\n",
    "print(scipy.std(num_defects))"
   ]
  },
  {
   "cell_type": "code",
   "execution_count": null,
   "metadata": {
    "collapsed": true
   },
   "outputs": [],
   "source": [
    "numpy.mean?"
   ]
  },
  {
   "cell_type": "code",
   "execution_count": null,
   "metadata": {},
   "outputs": [],
   "source": [
    "scipy.mean?"
   ]
  },
  {
   "cell_type": "code",
   "execution_count": null,
   "metadata": {},
   "outputs": [],
   "source": [
    "print(stats.mean(num_defects))\n",
    "print(stats.median(num_defects))\n",
    "print(stats.variance(num_defects))\n",
    "print(stats.stdev(num_defects))"
   ]
  },
  {
   "cell_type": "code",
   "execution_count": null,
   "metadata": {},
   "outputs": [],
   "source": [
    "nt = pd.Series(num_defects)\n",
    "\n",
    "print(nt.mean())\n",
    "print(nt.median())\n",
    "print(nt.var())\n",
    "print(nt.std())"
   ]
  },
  {
   "cell_type": "code",
   "execution_count": null,
   "metadata": {},
   "outputs": [],
   "source": [
    "nt.mean?"
   ]
  },
  {
   "cell_type": "code",
   "execution_count": null,
   "metadata": {},
   "outputs": [],
   "source": []
  },
  {
   "cell_type": "markdown",
   "metadata": {},
   "source": [
    "# Random stuff for testing purposes\n",
    "---"
   ]
  },
  {
   "cell_type": "code",
   "execution_count": null,
   "metadata": {},
   "outputs": [],
   "source": [
    "import statistics"
   ]
  },
  {
   "cell_type": "code",
   "execution_count": null,
   "metadata": {},
   "outputs": [],
   "source": [
    "statistics.mean?"
   ]
  },
  {
   "cell_type": "code",
   "execution_count": null,
   "metadata": {},
   "outputs": [],
   "source": []
  },
  {
   "cell_type": "markdown",
   "metadata": {},
   "source": [
    "# Experience Points\n",
    "---"
   ]
  },
  {
   "cell_type": "markdown",
   "metadata": {},
   "source": [
    "## Complete the following exercises:\n",
    "\n",
    "On the **IPython interpreter** create the following data types:\n",
    "\n",
    "Data type | Values\n",
    "----|----\n",
    "integers | `-10, 0, and 42`\n",
    "floating point numbers | `-10.0, 0.1, 42.0, and 3.7`\n",
    "strings | `'x', 'aloha', and 'Dark art of coding'`"
   ]
  },
  {
   "cell_type": "markdown",
   "metadata": {},
   "source": [
    "<img src='../images/green_sticky.300px.png' width='200' style='float:left'>"
   ]
  }
 ],
 "metadata": {
  "anaconda-cloud": {},
  "kernelspec": {
   "display_name": "Python 3",
   "language": "python",
   "name": "python3"
  },
  "language_info": {
   "codemirror_mode": {
    "name": "ipython",
    "version": 3
   },
   "file_extension": ".py",
   "mimetype": "text/x-python",
   "name": "python",
   "nbconvert_exporter": "python",
   "pygments_lexer": "ipython3",
   "version": "3.6.3"
  }
 },
 "nbformat": 4,
 "nbformat_minor": 2
}
