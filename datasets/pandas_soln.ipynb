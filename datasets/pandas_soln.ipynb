{
 "cells": [
  {
   "cell_type": "code",
   "execution_count": 1,
   "metadata": {
    "collapsed": true
   },
   "outputs": [],
   "source": [
    "import pandas"
   ]
  },
  {
   "cell_type": "code",
   "execution_count": 14,
   "metadata": {},
   "outputs": [],
   "source": [
    "file = pandas.read_csv('output.csv', delimiter=' ', names=['ip1', 'ip2', 'protocol', 'ip1port', 'ip2port', 'bytesto1', 'bytesto2', 'packetsto1', 'packetsto2', 'firstpackettime', 'lastpackettime', 'ipfirstpacket', 'iplastpacket'])\n",
    "\n"
   ]
  },
  {
   "cell_type": "markdown",
   "metadata": {},
   "source": [
    "# Finding unique IP addresses in ip1 and ip2"
   ]
  },
  {
   "cell_type": "code",
   "execution_count": 40,
   "metadata": {},
   "outputs": [
    {
     "data": {
      "text/plain": [
       "['141.38.97.197',\n",
       " '184.28.209.2',\n",
       " '110.219.109.77',\n",
       " '193.239.249.87',\n",
       " '110.219.109.114',\n",
       " '123.207.232.220',\n",
       " '123.207.232.154',\n",
       " '184.28.209.69',\n",
       " '163.83.63.121',\n",
       " '163.83.63.13',\n",
       " '58.61.80.28',\n",
       " '123.207.232.93',\n",
       " '58.61.80.25',\n",
       " '154.233.100.116',\n",
       " '193.239.249.63',\n",
       " '169.65.16.76',\n",
       " '141.38.97.236',\n",
       " '163.83.63.20',\n",
       " '184.28.209.96',\n",
       " '32.5.141.136',\n",
       " '193.239.249.43',\n",
       " '169.65.16.55',\n",
       " '32.5.141.253',\n",
       " '163.83.63.11',\n",
       " '110.219.109.127',\n",
       " '32.5.141.235',\n",
       " '169.65.16.65',\n",
       " '169.65.16.105',\n",
       " '32.5.141.208',\n",
       " '123.207.232.203',\n",
       " '141.38.97.250',\n",
       " '141.38.97.139',\n",
       " '58.61.80.116',\n",
       " '53.239.39.89',\n",
       " '53.239.39.80',\n",
       " '237.254.7.93',\n",
       " '53.239.39.34',\n",
       " '53.239.39.10',\n",
       " '237.254.7.2',\n",
       " '237.254.7.173',\n",
       " '237.254.7.118',\n",
       " '190.7.200.84',\n",
       " '194.92.153.183',\n",
       " '190.7.200.43',\n",
       " '196.32.156.53',\n",
       " '190.7.200.42',\n",
       " '196.32.156.43',\n",
       " '209.156.203.103',\n",
       " '209.156.202.220',\n",
       " '196.32.156.62',\n",
       " '113.157.100.7',\n",
       " '209.156.202.36',\n",
       " '194.92.153.202',\n",
       " '15.128.140.41',\n",
       " '207.44.135.209',\n",
       " '170.51.33.200',\n",
       " '96.38.178.144',\n",
       " '207.44.135.236',\n",
       " '196.32.156.50',\n",
       " '62.175.75.50',\n",
       " '207.44.135.225',\n",
       " '209.156.202.241',\n",
       " '96.38.178.50',\n",
       " '96.38.178.190',\n",
       " '196.32.156.103',\n",
       " '194.92.153.201',\n",
       " '113.157.100.36',\n",
       " '62.175.75.57',\n",
       " '207.44.135.198',\n",
       " '15.128.140.60',\n",
       " '15.128.140.14',\n",
       " '170.51.33.223',\n",
       " '190.7.200.25',\n",
       " '15.128.140.52',\n",
       " '170.51.33.248',\n",
       " '170.51.33.178',\n",
       " '113.157.100.2',\n",
       " '209.156.203.227',\n",
       " '96.38.178.34',\n",
       " '62.175.75.39',\n",
       " '194.92.153.203',\n",
       " '196.32.156.16',\n",
       " '125.47.131.156',\n",
       " '15.133.230.83',\n",
       " '125.47.131.179',\n",
       " '125.47.131.180']"
      ]
     },
     "execution_count": 40,
     "metadata": {},
     "output_type": "execute_result"
    }
   ],
   "source": [
    "list(file['ip1'].unique()) + list(file['ip2'].unique())"
   ]
  },
  {
   "cell_type": "markdown",
   "metadata": {},
   "source": [
    "# Finding unique ip pairs"
   ]
  },
  {
   "cell_type": "code",
   "execution_count": 42,
   "metadata": {},
   "outputs": [
    {
     "data": {
      "text/plain": [
       "array(['141.38.97.197-190.7.200.84', '184.28.209.2-194.92.153.183',\n",
       "       '110.219.109.77-190.7.200.43', ..., '237.254.7.93-125.47.131.179',\n",
       "       '237.254.7.118-125.47.131.179', '237.254.7.118-15.133.230.83'], dtype=object)"
      ]
     },
     "execution_count": 42,
     "metadata": {},
     "output_type": "execute_result"
    }
   ],
   "source": [
    "(file['ip1'] + '-' + file['ip2']).unique()"
   ]
  },
  {
   "cell_type": "markdown",
   "metadata": {},
   "source": [
    "# Biggest/smallest counts for packet sizes"
   ]
  },
  {
   "cell_type": "code",
   "execution_count": 45,
   "metadata": {},
   "outputs": [
    {
     "data": {
      "text/plain": [
       "(183, 549999407, 1429, 549998127)"
      ]
     },
     "execution_count": 45,
     "metadata": {},
     "output_type": "execute_result"
    }
   ],
   "source": [
    "file['bytesto1'].min(), file['bytesto1'].max(), file['bytesto2'].min(), file['bytesto2'].max()"
   ]
  },
  {
   "cell_type": "markdown",
   "metadata": {},
   "source": [
    "# Most common protocols"
   ]
  },
  {
   "cell_type": "code",
   "execution_count": 48,
   "metadata": {},
   "outputs": [
    {
     "data": {
      "text/plain": [
       "50    26484\n",
       "1     26420\n",
       "89    26297\n",
       "17    26248\n",
       "27    26245\n",
       "51    26149\n",
       "8     26121\n",
       "6     26036\n",
       "Name: protocol, dtype: int64"
      ]
     },
     "execution_count": 48,
     "metadata": {},
     "output_type": "execute_result"
    }
   ],
   "source": [
    "file['protocol'].value_counts()"
   ]
  },
  {
   "cell_type": "markdown",
   "metadata": {},
   "source": [
    "# 3 Most common protocols based on bytes sent"
   ]
  },
  {
   "cell_type": "code",
   "execution_count": 66,
   "metadata": {},
   "outputs": [
    {
     "data": {
      "text/html": [
       "<div>\n",
       "<style>\n",
       "    .dataframe thead tr:only-child th {\n",
       "        text-align: right;\n",
       "    }\n",
       "\n",
       "    .dataframe thead th {\n",
       "        text-align: left;\n",
       "    }\n",
       "\n",
       "    .dataframe tbody tr th {\n",
       "        vertical-align: top;\n",
       "    }\n",
       "</style>\n",
       "<table border=\"1\" class=\"dataframe\">\n",
       "  <thead>\n",
       "    <tr style=\"text-align: right;\">\n",
       "      <th></th>\n",
       "      <th>bytesto1</th>\n",
       "      <th>bytesto2</th>\n",
       "      <th>total</th>\n",
       "    </tr>\n",
       "    <tr>\n",
       "      <th>protocol</th>\n",
       "      <th></th>\n",
       "      <th></th>\n",
       "      <th></th>\n",
       "    </tr>\n",
       "  </thead>\n",
       "  <tbody>\n",
       "    <tr>\n",
       "      <th>1</th>\n",
       "      <td>7279385409494</td>\n",
       "      <td>7285445747852</td>\n",
       "      <td>14564831157346</td>\n",
       "    </tr>\n",
       "    <tr>\n",
       "      <th>50</th>\n",
       "      <td>7259263952432</td>\n",
       "      <td>7281821352857</td>\n",
       "      <td>14541085305289</td>\n",
       "    </tr>\n",
       "    <tr>\n",
       "      <th>89</th>\n",
       "      <td>7229999723766</td>\n",
       "      <td>7237233038238</td>\n",
       "      <td>14467232762004</td>\n",
       "    </tr>\n",
       "  </tbody>\n",
       "</table>\n",
       "</div>"
      ],
      "text/plain": [
       "               bytesto1       bytesto2           total\n",
       "protocol                                              \n",
       "1         7279385409494  7285445747852  14564831157346\n",
       "50        7259263952432  7281821352857  14541085305289\n",
       "89        7229999723766  7237233038238  14467232762004"
      ]
     },
     "execution_count": 66,
     "metadata": {},
     "output_type": "execute_result"
    }
   ],
   "source": [
    "groups = file.groupby('protocol')\n",
    "\n",
    "summed = groups.sum()[['bytesto1', 'bytesto2']]\n",
    "summed['total'] = summed['bytesto1'] + summed['bytesto2']\n",
    "summed.sort_values('total', ascending=False)[0:3]"
   ]
  }
 ],
 "metadata": {
  "kernelspec": {
   "display_name": "Python 3",
   "language": "python",
   "name": "python3"
  },
  "language_info": {
   "codemirror_mode": {
    "name": "ipython",
    "version": 3
   },
   "file_extension": ".py",
   "mimetype": "text/x-python",
   "name": "python",
   "nbconvert_exporter": "python",
   "pygments_lexer": "ipython3",
   "version": "3.6.1"
  }
 },
 "nbformat": 4,
 "nbformat_minor": 2
}
