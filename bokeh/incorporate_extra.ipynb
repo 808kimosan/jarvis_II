{
 "cells": [
  {
   "cell_type": "markdown",
   "metadata": {},
   "source": [
    "# Introduction to bokeh\n",
    "\n",
    "## Extra\n",
    "---\n",
    "\n",
    "<img src='./images/logos.3.600.wide.png' height='250' width='300' style=\"float:right\">"
   ]
  },
  {
   "cell_type": "code",
   "execution_count": null,
   "metadata": {
    "collapsed": true
   },
   "outputs": [],
   "source": [
    "# Experimentation using a ColumnDataSource\n",
    "\n",
    "from bokeh.plotting import figure, show, output_notebook\n",
    "from bokeh.models.sources import ColumnDataSource\n",
    "\n",
    "x_values = [0, 1, 2, 3, 4, 5, 6]\n",
    "y_values = [0.0, 1.0, 1.4, 1.7, 2.0, 2.2, 2.4]\n",
    "\n",
    "p = figure()\n",
    "\n",
    "d = {'x': [1, 2, 3], 'y': [5, 6, 7]}\n",
    "\n",
    "# Data could be a dictionary OR pandas DataFrame\n",
    "source = ColumnDataSource(data=d)\n",
    "\n",
    "p.line(x=source.data['x'], y=source.data['y'])\n",
    "\n",
    "output_notebook()\n",
    "show(p)"
   ]
  },
  {
   "cell_type": "markdown",
   "metadata": {},
   "source": [
    "## Navigation\n",
    "---\n",
    "\n",
    "| Previous | Next |\n",
    "|:----|-----:|\n",
    "| <<< [History](history.ipynb) | [XXX](./xxx.ipynb) >>> |"
   ]
  }
 ],
 "metadata": {
  "anaconda-cloud": {},
  "celltoolbar": "Slideshow",
  "kernelspec": {
   "display_name": "Python 3",
   "language": "python",
   "name": "python3"
  },
  "language_info": {
   "codemirror_mode": {
    "name": "ipython",
    "version": 3
   },
   "file_extension": ".py",
   "mimetype": "text/x-python",
   "name": "python",
   "nbconvert_exporter": "python",
   "pygments_lexer": "ipython3",
   "version": "3.5.2"
  }
 },
 "nbformat": 4,
 "nbformat_minor": 2
}
